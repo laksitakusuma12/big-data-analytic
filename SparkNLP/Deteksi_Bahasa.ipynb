{
  "nbformat": 4,
  "nbformat_minor": 0,
  "metadata": {
    "colab": {
      "name": "Deteksi Bahasa.ipynb",
      "provenance": []
    },
    "kernelspec": {
      "name": "python3",
      "display_name": "Python 3"
    },
    "language_info": {
      "name": "python"
    }
  },
  "cells": [
    {
      "cell_type": "code",
      "execution_count": 16,
      "metadata": {
        "colab": {
          "base_uri": "https://localhost:8080/"
        },
        "id": "LXUIZTxHnt9Y",
        "outputId": "918e675b-acb4-438f-8a30-4c881a634cb2"
      },
      "outputs": [
        {
          "output_type": "stream",
          "name": "stdout",
          "text": [
            "--2022-03-06 05:14:43--  http://setup.johnsnowlabs.com/colab.sh\n",
            "Resolving setup.johnsnowlabs.com (setup.johnsnowlabs.com)... 51.158.130.125\n",
            "Connecting to setup.johnsnowlabs.com (setup.johnsnowlabs.com)|51.158.130.125|:80... connected.\n",
            "HTTP request sent, awaiting response... 302 Found\n",
            "Location: https://setup.johnsnowlabs.com/colab.sh [following]\n",
            "--2022-03-06 05:14:44--  https://setup.johnsnowlabs.com/colab.sh\n",
            "Connecting to setup.johnsnowlabs.com (setup.johnsnowlabs.com)|51.158.130.125|:443... connected.\n",
            "HTTP request sent, awaiting response... 302 Moved Temporarily\n",
            "Location: https://raw.githubusercontent.com/JohnSnowLabs/spark-nlp/master/scripts/colab_setup.sh [following]\n",
            "--2022-03-06 05:14:45--  https://raw.githubusercontent.com/JohnSnowLabs/spark-nlp/master/scripts/colab_setup.sh\n",
            "Resolving raw.githubusercontent.com (raw.githubusercontent.com)... 185.199.108.133, 185.199.109.133, 185.199.110.133, ...\n",
            "Connecting to raw.githubusercontent.com (raw.githubusercontent.com)|185.199.108.133|:443... connected.\n",
            "HTTP request sent, awaiting response... 200 OK\n",
            "Length: 1453 (1.4K) [text/plain]\n",
            "Saving to: ‘STDOUT’\n",
            "\n",
            "-                   100%[===================>]   1.42K  --.-KB/s    in 0s      \n",
            "\n",
            "2022-03-06 05:14:45 (26.1 MB/s) - written to stdout [1453/1453]\n",
            "\n",
            "setup Colab for PySpark 3.0.3 and Spark NLP 3.4.1\n",
            "Installing PySpark 3.0.3 and Spark NLP 3.4.1\n"
          ]
        }
      ],
      "source": [
        "# This is only to setup PySpark and Spark NLP on Colab\n",
        "!wget http://setup.johnsnowlabs.com/colab.sh -O - | bash"
      ]
    },
    {
      "cell_type": "code",
      "source": [
        "import sparknlp\n",
        "\n",
        "spark = sparknlp.start()\n",
        "\n",
        "print(\"Spark NLP version\", sparknlp.version())\n",
        "\n",
        "print(\"Apache Spark version:\", spark.version)\n"
      ],
      "metadata": {
        "colab": {
          "base_uri": "https://localhost:8080/"
        },
        "id": "MPlhdQd6oBei",
        "outputId": "e4a17070-c626-4dce-bc85-4ed224e6f91a"
      },
      "execution_count": 28,
      "outputs": [
        {
          "output_type": "stream",
          "name": "stdout",
          "text": [
            "Spark NLP version 3.4.1\n",
            "Apache Spark version: 3.0.3\n"
          ]
        }
      ]
    },
    {
      "cell_type": "code",
      "source": [
        "from sparknlp.pretrained import PretrainedPipeline"
      ],
      "metadata": {
        "id": "D2gEltHKoCXz"
      },
      "execution_count": 18,
      "outputs": []
    },
    {
      "cell_type": "code",
      "source": [
        "# Download a pre-trained pipeline by name and language\n",
        "language_detector_pipeline = PretrainedPipeline('detect_language_21', lang='xx')\n",
        "\n",
        "# Depending on the language (how similar the characters are), the LanguageDetectorDL works\n",
        "# best with text longer than 140 characters\n",
        "language_detector_pipeline.annotate(\"«Нападение на 13-й участок»\")"
      ],
      "metadata": {
        "colab": {
          "base_uri": "https://localhost:8080/"
        },
        "id": "gbUwHVjiojtk",
        "outputId": "76b58f85-218c-4840-f183-2a97c1f7bea0"
      },
      "execution_count": 19,
      "outputs": [
        {
          "output_type": "stream",
          "name": "stdout",
          "text": [
            "detect_language_21 download started this may take some time.\n",
            "Approx size to download 7.7 MB\n",
            "[OK!]\n"
          ]
        },
        {
          "output_type": "execute_result",
          "data": {
            "text/plain": [
              "{'document': ['«Нападение на 13-й участок»'],\n",
              " 'language': ['bg'],\n",
              " 'sentence': ['«Нападение на 13-й участок»']}"
            ]
          },
          "metadata": {},
          "execution_count": 19
        }
      ]
    },
    {
      "cell_type": "code",
      "source": [
        "from sparknlp.base import *\n",
        "from sparknlp.annotator import *"
      ],
      "metadata": {
        "id": "x0G3VOVNolqz"
      },
      "execution_count": 20,
      "outputs": []
    },
    {
      "cell_type": "code",
      "source": [
        "documentAssembler = DocumentAssembler()\\\n",
        ".setInputCol(\"text\")\\\n",
        ".setOutputCol(\"document\")\n",
        "\n",
        "language_detector = LanguageDetectorDL.pretrained(\"ld_wiki_tatoeba_cnn_21\")\\\n",
        ".setInputCols([\"document\"])\\\n",
        ".setOutputCol(\"lang\")\\\n",
        ".setThreshold(0.8)\\\n",
        ".setCoalesceSentences(True)\n",
        "\n",
        "languagePipeline = Pipeline(stages=[\n",
        " documentAssembler, \n",
        " language_detector\n",
        "])"
      ],
      "metadata": {
        "colab": {
          "base_uri": "https://localhost:8080/"
        },
        "id": "pFec-SsSotgT",
        "outputId": "965315a4-6dfc-437d-9ffc-a173e7dc52f8"
      },
      "execution_count": 21,
      "outputs": [
        {
          "output_type": "stream",
          "name": "stdout",
          "text": [
            "ld_wiki_tatoeba_cnn_21 download started this may take some time.\n",
            "Approximate size to download 7.1 MB\n",
            "[OK!]\n"
          ]
        }
      ]
    },
    {
      "cell_type": "code",
      "source": [
        "# test_df = spark.createDataFrame([\n",
        "#   ['Spark NLP is an open-source text processing library for advanced natural language processing for the Python, Java and Scala programming languages.'], \n",
        "#   ['Spark NLP est une bibliothèque de traitement de texte open source pour le traitement avancé du langage naturel pour les langages de programmation Python, Java et Scala.']]\n",
        "# ).toDF(\"text\")\n",
        "# test_df.show()\n",
        "\n",
        "path = \"/content/drive/MyDrive/big-data-analytic/health.csv\"\n",
        "test_df = spark.read.csv(path).toDF(\"text\")\n",
        "test_df.show()\n",
        "\n",
        "results = languagePipeline.fit(test_df).transform(test_df)"
      ],
      "metadata": {
        "colab": {
          "base_uri": "https://localhost:8080/"
        },
        "id": "D2FxhN4Moveb",
        "outputId": "da6fa4c2-8e89-41df-d04e-ed26ef91a539"
      },
      "execution_count": 54,
      "outputs": [
        {
          "output_type": "stream",
          "name": "stdout",
          "text": [
            "+--------------------+\n",
            "|                text|\n",
            "+--------------------+\n",
            "|                text|\n",
            "|                I...|\n",
            "|                B...|\n",
            "|                T...|\n",
            "|                null|\n",
            "|                M...|\n",
            "|                T...|\n",
            "|                I...|\n",
            "|                T...|\n",
            "|Anemias continue ...|\n",
            "|                D...|\n",
            "+--------------------+\n",
            "\n"
          ]
        }
      ]
    },
    {
      "cell_type": "code",
      "source": [
        "results.select(\"lang.result\").show()"
      ],
      "metadata": {
        "colab": {
          "base_uri": "https://localhost:8080/"
        },
        "id": "otHNtSvhpAt5",
        "outputId": "71a36449-3d86-497d-baeb-9014108b0bdc"
      },
      "execution_count": 55,
      "outputs": [
        {
          "output_type": "stream",
          "name": "stdout",
          "text": [
            "+---------+\n",
            "|   result|\n",
            "+---------+\n",
            "|[Unknown]|\n",
            "|     [en]|\n",
            "|     [en]|\n",
            "|     [en]|\n",
            "|       []|\n",
            "|     [en]|\n",
            "|     [en]|\n",
            "|     [en]|\n",
            "|     [en]|\n",
            "|     [en]|\n",
            "|     [en]|\n",
            "+---------+\n",
            "\n"
          ]
        }
      ]
    },
    {
      "cell_type": "code",
      "source": [
        "# probabilities for other languages\n",
        "results.select(\"lang.metadata\").show(2, False)"
      ],
      "metadata": {
        "colab": {
          "base_uri": "https://localhost:8080/"
        },
        "id": "yLT5s6GupDi3",
        "outputId": "ddf6ce4e-712d-4af6-9c68-8994a7562010"
      },
      "execution_count": 56,
      "outputs": [
        {
          "output_type": "stream",
          "name": "stdout",
          "text": [
            "+------------------------------------------------------------------------------------------------------------------------------------------------------------------------------------------------------------------------------------------------------------------------------------------------------------------------------------------------------------------------------------------------------------------------+\n",
            "|metadata                                                                                                                                                                                                                                                                                                                                                                                                                |\n",
            "+------------------------------------------------------------------------------------------------------------------------------------------------------------------------------------------------------------------------------------------------------------------------------------------------------------------------------------------------------------------------------------------------------------------------+\n",
            "|[[fr -> 0.098273724, lv -> 1.5925473E-4, pt -> 0.0089843115, cs -> 0.040876858, el -> 4.650516E-5, it -> 0.008617598, nl -> 0.04082373, bg -> 1.6972353E-5, et -> 0.024009533, de -> 0.0609206, sv -> 0.1841176, da -> 0.07269518, en -> 0.11012134, sk -> 0.024473462, es -> 0.012085282, fi -> 0.0362384, ro -> 0.16655965, lt -> 0.008891828, sl -> 0.030750751, sentence -> 0, hu -> 0.021655565, pl -> 0.04968185]]|\n",
            "|[[fr -> 1.4572659E-34, lv -> 0.0, pt -> 7.536739E-32, cs -> 9.162653E-26, el -> 0.0, it -> 2.8996858E-29, nl -> 1.1336532E-17, bg -> 0.0, et -> 2.2185869E-24, de -> 1.6386151E-21, sv -> 2.24085E-28, da -> 3.107489E-24, en -> 1.0, sk -> 9.949304E-26, es -> 5.614458E-31, fi -> 0.0, ro -> 8.313853E-31, lt -> 3.1357417E-27, sl -> 1.0933475E-9, sentence -> 0, hu -> 1.6063384E-22, pl -> 3.1461035E-21]]         |\n",
            "+------------------------------------------------------------------------------------------------------------------------------------------------------------------------------------------------------------------------------------------------------------------------------------------------------------------------------------------------------------------------------------------------------------------------+\n",
            "only showing top 2 rows\n",
            "\n"
          ]
        }
      ]
    },
    {
      "cell_type": "code",
      "source": [
        ""
      ],
      "metadata": {
        "id": "nwlxzIwVpFks"
      },
      "execution_count": null,
      "outputs": []
    }
  ]
}